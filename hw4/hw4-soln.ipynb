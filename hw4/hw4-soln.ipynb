{
 "cells": [
  {
   "cell_type": "markdown",
   "metadata": {},
   "source": [
    "## Imports"
   ]
  },
  {
   "cell_type": "code",
   "execution_count": 1,
   "metadata": {},
   "outputs": [],
   "source": [
    "from skimage.io import imread\n",
    "from skimage.filters import gaussian\n",
    "import numpy as np\n",
    "from matplotlib import pyplot as plt\n",
    "from skimage import img_as_float\n",
    "import math"
   ]
  },
  {
   "cell_type": "markdown",
   "metadata": {},
   "source": [
    "# Function to compute the moments of the image"
   ]
  },
  {
   "cell_type": "code",
   "execution_count": 2,
   "metadata": {},
   "outputs": [],
   "source": [
    "from numpy import mgrid, sum\n",
    "\n",
    "\n",
    "def similitudeMoments(image):\n",
    "    \n",
    "    ### Make sure the image is a grayscale image\n",
    "    assert len(image.shape) == 2\n",
    "    \n",
    "    ## Temp grid for storing intermediate operations\n",
    "    x, y = mgrid[:image.shape[0],:image.shape[1]]\n",
    "    \n",
    "    ## Our final dictionary that contains the \n",
    "    moments = {}\n",
    "    \n",
    "    \n",
    "    moments['mean_x'] = sum(x*image)/sum(image)\n",
    "    moments['mean_y'] = sum(y*image)/sum(image)\n",
    "    \n",
    "    ## Spatial moments: Spatial moments  often used to describe region shape\n",
    "    \n",
    "    # Zeroth Order\n",
    "    moments['m00'] = sum(image)\n",
    "    \n",
    "    # First Order\n",
    "    moments['m01'] = sum(x*image)\n",
    "    moments['m10'] = sum(y*image)\n",
    "    \n",
    "    # Second Order\n",
    "    moments['m11'] = sum(y*x*image)\n",
    "    moments['m02'] = sum(x**2*image)\n",
    "    moments['m20'] = sum(y**2*image)\n",
    "    \n",
    "    # Third Order\n",
    "    moments['m12'] = sum(x*y**2*image)\n",
    "    moments['m21'] = sum(x**2*y*image)\n",
    "    moments['m03'] = sum(x**3*image)\n",
    "    moments['m30'] = sum(y**3*image)\n",
    "    \n",
    "    ## Central moments: Translation Invariant\n",
    "    \n",
    "    # First Order (Seem useless, in terms of calculating the final nu moments. But still kept)\n",
    "    moments['mu01']= sum((y-moments['mean_y'])*image)\n",
    "    moments['mu10']= sum((x-moments['mean_x'])*image)\n",
    "    \n",
    "    # Second Order (Moment Ellipse Orientation)\n",
    "    moments['mu11'] = sum((x-moments['mean_x'])*(y-moments['mean_y'])*image)\n",
    "    moments['mu02'] = sum((y-moments['mean_y'])**2*image)\n",
    "    moments['mu20'] = sum((x-moments['mean_x'])**2*image)\n",
    "    \n",
    "    # Third Order (Skewness of the Image)\n",
    "    moments['mu12'] = sum((x-moments['mean_x'])*(y-moments['mean_y'])**2*image)\n",
    "    moments['mu21'] = sum((x-moments['mean_x'])**2*(y-moments['mean_y'])*image)\n",
    "    moments['mu03'] = sum((y-moments['mean_y'])**3*image)\n",
    "    moments['mu30'] = sum((x-moments['mean_x'])**3*image)\n",
    "    \n",
    "    # Similitude Moments: Invariant to translation and scale\n",
    "    \n",
    "    moments['eta11'] = moments['mu11'] / sum(image)**(2/2+1)\n",
    "    moments['eta12'] = moments['mu12'] / sum(image)**(3/2+1)\n",
    "    moments['eta21'] = moments['mu21'] / sum(image)**(3/2+1)\n",
    "    moments['eta02'] = moments['mu02'] / sum(image)**(2/2+1)\n",
    "    moments['eta20'] = moments['mu20'] / sum(image)**(2/2+1)\n",
    "    moments['eta03'] = moments['mu03'] / sum(image)**(3/2+1)\n",
    "    moments['eta30'] = moments['mu30'] / sum(image)**(3/2+1)\n",
    "    \n",
    "    return moments"
   ]
  },
  {
   "cell_type": "code",
   "execution_count": 3,
   "metadata": {},
   "outputs": [],
   "source": [
    "image_cube = []\n",
    "\n",
    "for i in range(1,5):\n",
    "    tmp = imread(f'./data/boxIm{i}.bmp')\n",
    "    tmp = img_as_float(tmp)\n",
    "    image_cube.append(tmp)"
   ]
  },
  {
   "cell_type": "code",
   "execution_count": 4,
   "metadata": {},
   "outputs": [
    {
     "data": {
      "text/plain": [
       "{'eta02': 0.1646090534979424,\n",
       " 'eta03': 0.0,\n",
       " 'eta11': 0.0,\n",
       " 'eta12': 0.0,\n",
       " 'eta20': 0.04215597711532671,\n",
       " 'eta21': 0.0,\n",
       " 'eta30': 0.0,\n",
       " 'm00': 3321.0,\n",
       " 'm01': 129519.0,\n",
       " 'm02': 5516181.0,\n",
       " 'm03': 251396379.0,\n",
       " 'm10': 195939.0,\n",
       " 'm11': 7641621.0,\n",
       " 'm12': 521659359.0,\n",
       " 'm20': 13375881.0,\n",
       " 'm21': 325454679.0,\n",
       " 'm30': 1003403619.0,\n",
       " 'mean_x': 39.0,\n",
       " 'mean_y': 59.0,\n",
       " 'mu01': 0.0,\n",
       " 'mu02': 1815480.0,\n",
       " 'mu03': 0.0,\n",
       " 'mu10': 0.0,\n",
       " 'mu11': 0.0,\n",
       " 'mu12': 0.0,\n",
       " 'mu20': 464940.0,\n",
       " 'mu21': 0.0,\n",
       " 'mu30': 0.0}"
      ]
     },
     "execution_count": 4,
     "metadata": {},
     "output_type": "execute_result"
    }
   ],
   "source": [
    "tmom = similitudeMoments(image_cube[1])\n",
    "tmom"
   ]
  },
  {
   "cell_type": "code",
   "execution_count": 5,
   "metadata": {},
   "outputs": [
    {
     "data": {
      "image/png": "[encoded data removed]",
      "text/plain": [
       "<matplotlib.figure.Figure at 0x1ec3bf84048>"
      ]
     },
     "metadata": {},
     "output_type": "display_data"
    }
   ],
   "source": [
    "f, axarr = plt.subplots(4,1, sharey='row', dpi=200)\n",
    "s1= \"$\\eta_{02}$\"\n",
    "s2 = \"$\\eta_{20}$\"\n",
    "for i in range(4):\n",
    "    tmom = similitudeMoments(image_cube[i])\n",
    "    axarr[i].imshow(image_cube[i], cmap='gray')\n",
    "    axarr[i].axis('off')\n",
    "    axarr[i].set_title(f\"{s1}:{round(tmom['eta02'],3)}, {s2}:{round(tmom['eta20'],3)}\", fontsize=8)\n",
    "plt.tight_layout()"
   ]
  },
  {
   "cell_type": "markdown",
   "metadata": {},
   "source": [
    "(The other moments were also calculated, but were ignored since they amount to 0).\n",
    "\n",
    "From the above plot it is clear that the rectangles only have $\\eta_{02}$ and $\\eta_{20}$ values. This is because of their perfect symmetry, and \"squarish\" nature that they do not exhibit most other properties other than the orientation, which is given by the aforementioned second order moments.\n",
    "\n",
    "Note that for the 1 rectangle thats oriented transposed of the others, the values swap, thus telling us that the orientation has itself transposed."
   ]
  },
  {
   "cell_type": "markdown",
   "metadata": {},
   "source": [
    "# Load up eigdata.txt and perform background-subtraction"
   ]
  },
  {
   "cell_type": "code",
   "execution_count": 6,
   "metadata": {},
   "outputs": [],
   "source": [
    "X = np.loadtxt('./data/eigdata.txt')"
   ]
  },
  {
   "cell_type": "code",
   "execution_count": 7,
   "metadata": {},
   "outputs": [
    {
     "data": {
      "text/plain": [
       "<matplotlib.collections.PathCollection at 0x1ec3d565b00>"
      ]
     },
     "execution_count": 7,
     "metadata": {},
     "output_type": "execute_result"
    },
    {
     "data": {
      "image/png": "[encoded data removed]",
      "text/plain": [
       "<matplotlib.figure.Figure at 0x1ec3d574470>"
      ]
     },
     "metadata": {},
     "output_type": "display_data"
    }
   ],
   "source": [
    "plt.scatter(X[:,0],X[:,1], s=0.5, c='blue')"
   ]
  },
  {
   "cell_type": "code",
   "execution_count": 8,
   "metadata": {},
   "outputs": [],
   "source": [
    "m = np.mean(X, axis=0)\n",
    "\n",
    "Y = X - m"
   ]
  },
  {
   "cell_type": "code",
   "execution_count": 9,
   "metadata": {},
   "outputs": [
    {
     "data": {
      "text/plain": [
       "<matplotlib.collections.PathCollection at 0x1ec3d5ea588>"
      ]
     },
     "execution_count": 9,
     "metadata": {},
     "output_type": "execute_result"
    },
    {
     "data": {
      "image/png": "[encoded data removed]",
      "text/plain": [
       "<matplotlib.figure.Figure at 0x1ec3d5572e8>"
      ]
     },
     "metadata": {},
     "output_type": "display_data"
    }
   ],
   "source": [
    "plt.scatter(Y[:,0],Y[:,1], s=0.5, c='red')"
   ]
  },
  {
   "cell_type": "markdown",
   "metadata": {},
   "source": [
    "# Compute Eigenvalues and Eigenvectors of the data"
   ]
  },
  {
   "cell_type": "markdown",
   "metadata": {},
   "source": [
    "First we calculate the covariance matrix"
   ]
  },
  {
   "cell_type": "code",
   "execution_count": 10,
   "metadata": {},
   "outputs": [
    {
     "data": {
      "text/plain": [
       "(2, 2)"
      ]
     },
     "execution_count": 10,
     "metadata": {},
     "output_type": "execute_result"
    }
   ],
   "source": [
    "covariance = np.cov(Y.T)\n",
    "\n",
    "covariance.shape"
   ]
  },
  {
   "cell_type": "markdown",
   "metadata": {},
   "source": [
    "Now we calculate the eigenvalues and eigenvectors from the covariance matrix (`Note: We are not using np.linalg.inv(covariance)`) This would mean that the upcoming steps will have a slight difference."
   ]
  },
  {
   "cell_type": "code",
   "execution_count": 11,
   "metadata": {},
   "outputs": [],
   "source": [
    "[w, v] = np.linalg.eig(covariance)\n",
    "largest_eigvec = v[0]\n",
    "smallest_eigvec = v[1]"
   ]
  },
  {
   "cell_type": "markdown",
   "metadata": {},
   "source": [
    "Calculating the angle between x-axis and the largest eigenvector, since we will aim to project our data onto that axis. We also need to ensure that this angle is between $[0,2\\pi]$, though our `arctan2` gives us the angle in $[-\\pi,\\pi]$. Hence we shift it by $2\\pi$ if negative."
   ]
  },
  {
   "cell_type": "code",
   "execution_count": 12,
   "metadata": {},
   "outputs": [],
   "source": [
    "angle = np.arctan2(largest_eigvec[1], largest_eigvec[0])\n",
    "if angle < 0:\n",
    "    angle = angle + 2*np.pi"
   ]
  },
  {
   "cell_type": "markdown",
   "metadata": {},
   "source": [
    "Co-ordinates of our data mean, basically so that we can center our plots, no real function in terms of our projection and de-correlation."
   ]
  },
  {
   "cell_type": "code",
   "execution_count": 13,
   "metadata": {},
   "outputs": [],
   "source": [
    "avg = np.mean(Y, axis=0)"
   ]
  },
  {
   "cell_type": "markdown",
   "metadata": {},
   "source": [
    "The $3\\sigma$ std-deviation corresponds to `0.9973` in terms of confidence interval, and our corresponding $\\chi^2$ value then becomes `7.378`. If we have to center our ellipse around this, we take sq, root since each $\\sigma_x$ and $\\sigma_y$ requires this parameter."
   ]
  },
  {
   "cell_type": "code",
   "execution_count": 14,
   "metadata": {},
   "outputs": [],
   "source": [
    "chisquare_val = np.sqrt(7.378)\n",
    "theta_grid = np.linspace(0, 2*np.pi)\n",
    "phi = -angle\n",
    "X0 = avg[0]\n",
    "Y0 = avg[1]"
   ]
  },
  {
   "cell_type": "markdown",
   "metadata": {},
   "source": [
    "Generating a gridspace for our ellipse"
   ]
  },
  {
   "cell_type": "code",
   "execution_count": 15,
   "metadata": {},
   "outputs": [],
   "source": [
    "a=chisquare_val*np.sqrt(w[0])\n",
    "b=chisquare_val*np.sqrt(w[1])\n",
    "\n",
    "ellipse_x_r  = a*np.cos( theta_grid )\n",
    "ellipse_y_r  = b*np.sin( theta_grid )"
   ]
  },
  {
   "cell_type": "markdown",
   "metadata": {},
   "source": [
    "Rotation matrix for our ellipse, so that it corresponds to our data"
   ]
  },
  {
   "cell_type": "code",
   "execution_count": 16,
   "metadata": {},
   "outputs": [],
   "source": [
    "R = np.array([[ np.cos(phi), np.sin(phi)], [-np.sin(phi), np.cos(phi)]]).reshape((2,2))"
   ]
  },
  {
   "cell_type": "code",
   "execution_count": 17,
   "metadata": {},
   "outputs": [
    {
     "name": "stderr",
     "output_type": "stream",
     "text": [
      "c:\\users\\theanig\\appdata\\local\\programs\\python\\python36\\lib\\site-packages\\ipykernel_launcher.py:6: RuntimeWarning: invalid value encountered in sqrt\n",
      "  \n"
     ]
    },
    {
     "data": {
      "text/plain": [
       "<matplotlib.quiver.Quiver at 0x1ec3d8a31d0>"
      ]
     },
     "execution_count": 17,
     "metadata": {},
     "output_type": "execute_result"
    },
    {
     "data": {
      "image/png": "[encoded data removed]",
      "text/plain": [
       "<matplotlib.figure.Figure at 0x1ec3d5eaef0>"
      ]
     },
     "metadata": {},
     "output_type": "display_data"
    }
   ],
   "source": [
    "r_ellipse = np.vstack((ellipse_x_r, ellipse_y_r)).T @ R\n",
    "\n",
    "plt.plot(r_ellipse[:,0] + X0,r_ellipse[:,1] + Y0, c='#db2f27')\n",
    "plt.scatter(Y[:,0],Y[:,1], s=0.5, c='#008cbc')\n",
    "plt.quiver(0, 0, -1.5*np.sqrt(largest_eigvec), 1*np.sqrt(largest_eigvec), color='#007500', scale=3.4)\n",
    "plt.quiver(0, 0, 1*np.sqrt(smallest_eigvec), 1.5*np.sqrt(smallest_eigvec), color='#0b3954', scale=15)"
   ]
  },
  {
   "cell_type": "markdown",
   "metadata": {},
   "source": [
    "In the above plot we can see ellipse at $3\\sigma$ around the data, along with the two principal axes, given by the eigenvectors."
   ]
  },
  {
   "cell_type": "markdown",
   "metadata": {},
   "source": [
    "# Make the data un-correlated"
   ]
  },
  {
   "cell_type": "markdown",
   "metadata": {},
   "source": [
    "In order to de-correlate the data, we rotate the given data about its axes such that it aligns with our largest eigenvector."
   ]
  },
  {
   "cell_type": "code",
   "execution_count": 18,
   "metadata": {},
   "outputs": [],
   "source": [
    "stddev = np.sqrt(np.diag(covariance))"
   ]
  },
  {
   "cell_type": "code",
   "execution_count": 19,
   "metadata": {},
   "outputs": [
    {
     "name": "stderr",
     "output_type": "stream",
     "text": [
      "c:\\users\\theanig\\appdata\\local\\programs\\python\\python36\\lib\\site-packages\\ipykernel_launcher.py:7: RuntimeWarning: invalid value encountered in sqrt\n",
      "  import sys\n"
     ]
    },
    {
     "data": {
      "text/plain": [
       "<matplotlib.quiver.Quiver at 0x1ec3d9003c8>"
      ]
     },
     "execution_count": 19,
     "metadata": {},
     "output_type": "execute_result"
    },
    {
     "data": {
      "image/png": "[encoded data removed]",
      "text/plain": [
       "<matplotlib.figure.Figure at 0x1ec3d8b4080>"
      ]
     },
     "metadata": {},
     "output_type": "display_data"
    }
   ],
   "source": [
    "decorrelated_y = np.divide(Y, stddev)\n",
    "decorrelated_y = decorrelated_y @ v\n",
    "\n",
    "plt.plot(ellipse_x_r/4, ellipse_y_r/4, c='#db2f27')\n",
    "plt.scatter(decorrelated_y[:,0],decorrelated_y[:,1], s=0.5, c='#008cbc')\n",
    "plt.quiver(0, 0, 1*np.sqrt(largest_eigvec), 0*np.sqrt(largest_eigvec), color='#007500', scale=2.3)\n",
    "plt.quiver(0, 0, 0*np.sqrt(smallest_eigvec), 1*np.sqrt(smallest_eigvec), color='#0b3954', scale=4.5)"
   ]
  },
  {
   "cell_type": "markdown",
   "metadata": {},
   "source": [
    "Note that in the above figure, our squished ellipse from previous question appears to have fattened a little bit, this is merely an illusion generated due to use of different scaling along the other axis (done explicitly by me to make the results look better), if we were to measure the thickness empirically, we would find the two results to be the same."
   ]
  },
  {
   "cell_type": "code",
   "execution_count": 20,
   "metadata": {},
   "outputs": [
    {
     "data": {
      "text/plain": [
       "<matplotlib.collections.PathCollection at 0x1ec3d94edd8>"
      ]
     },
     "execution_count": 20,
     "metadata": {},
     "output_type": "execute_result"
    },
    {
     "data": {
      "image/png": "[encoded data removed]",
      "text/plain": [
       "<matplotlib.figure.Figure at 0x1ec3d60ac50>"
      ]
     },
     "metadata": {},
     "output_type": "display_data"
    }
   ],
   "source": [
    "projected_y = Y @ largest_eigvec.T\n",
    "plt.scatter(projected_y, np.zeros_like(projected_y), c='blue')"
   ]
  },
  {
   "cell_type": "markdown",
   "metadata": {},
   "source": [
    "Now we project the data down to 1D along the largest eigenvector. Note that in this particular case, there was some information spread about the other axis, which was lost, but not significant enough that we are unable to utilize the results."
   ]
  },
  {
   "cell_type": "markdown",
   "metadata": {},
   "source": [
    "At such a low dimension, PCA performs just as good as any, but if the given data were of higher dimensionality, we could've had some interesting comparision with more sophisticated dimensionality reduction algorithms like t-SNE and compared the two."
   ]
  }
 ],
 "metadata": {
  "kernelspec": {
   "display_name": "Python 3",
   "language": "python",
   "name": "python3"
  },
  "language_info": {
   "codemirror_mode": {
    "name": "ipython",
    "version": 3
   },
   "file_extension": ".py",
   "mimetype": "text/x-python",
   "name": "python",
   "nbconvert_exporter": "python",
   "pygments_lexer": "ipython3",
   "version": "3.7.0"
  }
 },
 "nbformat": 4,
 "nbformat_minor": 2
}
