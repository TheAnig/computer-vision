{
 "cells": [
  {
   "cell_type": "code",
   "execution_count": 20,
   "metadata": {},
   "outputs": [],
   "source": [
    "from skimage.io import imread\n",
    "from skimage.filters import gaussian\n",
    "import numpy as np\n",
    "from matplotlib import pyplot as plt\n",
    "from skimage import img_as_float\n",
    "import scipy as sp"
   ]
  },
  {
   "cell_type": "code",
   "execution_count": 4,
   "metadata": {},
   "outputs": [],
   "source": [
    "cov_target = imread('./data/target.jpg') # Returns R G B image"
   ]
  },
  {
   "cell_type": "code",
   "execution_count": 12,
   "metadata": {},
   "outputs": [
    {
     "data": {
      "text/plain": [
       "(240, 320, 3)"
      ]
     },
     "execution_count": 12,
     "metadata": {},
     "output_type": "execute_result"
    }
   ],
   "source": [
    "cov_target.shape"
   ]
  },
  {
   "cell_type": "markdown",
   "metadata": {},
   "source": [
    "# Covariance Tracking"
   ]
  },
  {
   "cell_type": "markdown",
   "metadata": {},
   "source": [
    "Compute C_model"
   ]
  },
  {
   "cell_type": "code",
   "execution_count": 2,
   "metadata": {},
   "outputs": [],
   "source": [
    "modelCovMatrix = np.array([[47.917, 0, -146.636, -141.572, -123.269],\n",
    "[0, 408.250, 68.487, 69.828, 53.479],\n",
    "[-146.636, 68.487, 2654.285, 2621.672, 2440.381],\n",
    "[-141.572, 69.828, 2621.672, 2597.818, 2435.368],\n",
    "[-123.269, 53.479, 2440.381, 2435.368, 2404.923]])"
   ]
  },
  {
   "cell_type": "markdown",
   "metadata": {},
   "source": [
    "Calc covariance for a given patch"
   ]
  },
  {
   "cell_type": "code",
   "execution_count": 89,
   "metadata": {},
   "outputs": [],
   "source": [
    "def calc_cov(patch):\n",
    "    feature_vec = np.zeros((5,patch.shape[0]*patch.shape[1]))\n",
    "    for i in range(0, patch.shape[0]):\n",
    "        for j in range(0, patch.shape[1]):\n",
    "            feature_vec[:, (i*patch.shape[1] + j)] = np.array([i, j, patch[i, j, 0], patch[i, j, 1], patch[i, j, 2]])\n",
    "    return np.cov(feature_vec, bias=True)"
   ]
  },
  {
   "cell_type": "markdown",
   "metadata": {},
   "source": [
    "Calc Distance from the given model"
   ]
  },
  {
   "cell_type": "code",
   "execution_count": 31,
   "metadata": {},
   "outputs": [],
   "source": [
    "def cal_distance(cov_model, cov_candidate):\n",
    "    ew, ev = sp.linalg.eig(cov_model, cov_candidate)\n",
    "    return np.sqrt((np.log(ew)**2).sum())"
   ]
  },
  {
   "cell_type": "markdown",
   "metadata": {},
   "source": [
    "Scan All the patches"
   ]
  },
  {
   "cell_type": "code",
   "execution_count": 70,
   "metadata": {},
   "outputs": [],
   "source": [
    "def scan_patches(image, patch_size):\n",
    "    for i in range(0, image.shape[0], patch_size[0]-1):\n",
    "        for j in range(0, image.shape[1], patch_size[1]-1):\n",
    "            yield image[i:i+patch_size[0], j:j+patch_size[1]], (i, j)"
   ]
  },
  {
   "cell_type": "markdown",
   "metadata": {},
   "source": [
    "Find patch with minimum distance"
   ]
  },
  {
   "cell_type": "code",
   "execution_count": 91,
   "metadata": {},
   "outputs": [],
   "source": [
    "patches = scan_patches(cov_target, (70, 24))\n",
    "\n",
    "minPos = (0,0)\n",
    "minDist = float(\"inf\")\n",
    "\n",
    "for patch in patches:\n",
    "    dist = cal_distance(modelCovMatrix, calc_cov(patch[0]))\n",
    "    if dist < minDist:\n",
    "        minPos = patch[1]\n",
    "        minDist = dist"
   ]
  },
  {
   "cell_type": "code",
   "execution_count": 94,
   "metadata": {},
   "outputs": [
    {
     "data": {
      "text/plain": [
       "<matplotlib.image.AxesImage at 0x21fb4976048>"
      ]
     },
     "execution_count": 94,
     "metadata": {},
     "output_type": "execute_result"
    },
    {
     "data": {
      "image/png": "[encoded data removed]",
      "text/plain": [
       "<matplotlib.figure.Figure at 0x21fb4316da0>"
      ]
     },
     "metadata": {},
     "output_type": "display_data"
    }
   ],
   "source": [
    "plt.imshow(cov_target[minPos[0]:minPos[0]+70, minPos[1]:minPos[1]+24])"
   ]
  },
  {
   "cell_type": "markdown",
   "metadata": {},
   "source": [
    "# Mean-shift Tracking"
   ]
  },
  {
   "cell_type": "markdown",
   "metadata": {},
   "source": [
    "## Create a function to extract a feature vector for each pixel in a circular neighborhood "
   ]
  },
  {
   "cell_type": "markdown",
   "metadata": {},
   "source": [
    "## Create a function to build a color histogram from a neighborhood of points"
   ]
  },
  {
   "cell_type": "markdown",
   "metadata": {},
   "source": [
    "## Create a function to calculate a vector of the mean-shift weights"
   ]
  },
  {
   "cell_type": "markdown",
   "metadata": {},
   "source": [
    "## use the functions above to perform mean-shift tracking"
   ]
  }
 ],
 "metadata": {
  "kernelspec": {
   "display_name": "Python 3",
   "language": "python",
   "name": "python3"
  },
  "language_info": {
   "codemirror_mode": {
    "name": "ipython",
    "version": 3
   },
   "file_extension": ".py",
   "mimetype": "text/x-python",
   "name": "python",
   "nbconvert_exporter": "python",
   "pygments_lexer": "ipython3",
   "version": "3.6.4"
  }
 },
 "nbformat": 4,
 "nbformat_minor": 2
}
