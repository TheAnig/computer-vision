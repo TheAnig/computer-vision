{
 "cells": [
  {
   "cell_type": "code",
   "execution_count": 1,
   "metadata": {},
   "outputs": [],
   "source": [
    "import numpy as np\n",
    "from matplotlib import pyplot as plt"
   ]
  },
  {
   "cell_type": "code",
   "execution_count": 2,
   "metadata": {},
   "outputs": [],
   "source": [
    "x = np.loadtxt('./data/2Dpoints.txt')"
   ]
  },
  {
   "cell_type": "code",
   "execution_count": 4,
   "metadata": {},
   "outputs": [],
   "source": [
    "X = np.loadtxt('./data/3Dpoints.txt')"
   ]
  },
  {
   "cell_type": "code",
   "execution_count": 6,
   "metadata": {},
   "outputs": [
    {
     "data": {
      "text/plain": [
       "100"
      ]
     },
     "execution_count": 6,
     "metadata": {},
     "output_type": "execute_result"
    }
   ],
   "source": [
    "len(X)"
   ]
  },
  {
   "cell_type": "code",
   "execution_count": 21,
   "metadata": {},
   "outputs": [
    {
     "data": {
      "text/plain": [
       "(100, 3)"
      ]
     },
     "execution_count": 21,
     "metadata": {},
     "output_type": "execute_result"
    }
   ],
   "source": [
    "X.shape"
   ]
  },
  {
   "cell_type": "code",
   "execution_count": 14,
   "metadata": {},
   "outputs": [],
   "source": [
    "a = np.hstack((X[0], [1]))\n",
    "b = np.zeros(a.shape)"
   ]
  },
  {
   "cell_type": "code",
   "execution_count": 17,
   "metadata": {},
   "outputs": [
    {
     "name": "stdout",
     "output_type": "stream",
     "text": [
      "[[ 8.89560004e+03 -3.42725524e+02  7.29791079e+03  1.00000000e+00]\n",
      " [ 0.00000000e+00  0.00000000e+00  0.00000000e+00  0.00000000e+00]]\n"
     ]
    }
   ],
   "source": [
    "print(np.vstack((a,b)))"
   ]
  },
  {
   "cell_type": "code",
   "execution_count": 25,
   "metadata": {},
   "outputs": [],
   "source": [
    "t1 = np.zeros((2*len(X), 4))\n",
    "t2 = np.zeros((2*len(X), 4))\n",
    "for i in range(len(X)):\n",
    "    t1[i*2] = np.hstack((X[i], [1]))\n",
    "    t2[i*2+1] = np.hstack((X[i], [1]))"
   ]
  },
  {
   "cell_type": "code",
   "execution_count": 29,
   "metadata": {},
   "outputs": [],
   "source": [
    "b1 = np.zeros((2*len(X), 4))\n",
    "b2 = np.zeros((2*len(X), 4))\n",
    "for i in range(len(x)):\n",
    "    xi, yi = x[i]\n",
    "    b1[i*2] = np.hstack((-xi*X[i], [-xi]))\n",
    "    b2[i*2+1] = np.hstack((-yi*X[i], [-yi]))"
   ]
  },
  {
   "cell_type": "code",
   "execution_count": 30,
   "metadata": {},
   "outputs": [],
   "source": [
    "b = b1+b2"
   ]
  },
  {
   "cell_type": "code",
   "execution_count": 33,
   "metadata": {},
   "outputs": [],
   "source": [
    "A = np.hstack((t1, t2, b))"
   ]
  },
  {
   "cell_type": "code",
   "execution_count": 34,
   "metadata": {},
   "outputs": [
    {
     "data": {
      "text/plain": [
       "(200, 12)"
      ]
     },
     "execution_count": 34,
     "metadata": {},
     "output_type": "execute_result"
    }
   ],
   "source": [
    "A.shape"
   ]
  },
  {
   "cell_type": "code",
   "execution_count": 45,
   "metadata": {},
   "outputs": [],
   "source": [
    "ew, ev = np.linalg.eig(A.T @ A)"
   ]
  },
  {
   "cell_type": "code",
   "execution_count": 111,
   "metadata": {},
   "outputs": [],
   "source": [
    "p = ev[-1]"
   ]
  },
  {
   "cell_type": "code",
   "execution_count": 112,
   "metadata": {},
   "outputs": [],
   "source": [
    "p /= np.linalg.norm(p)"
   ]
  },
  {
   "cell_type": "code",
   "execution_count": 113,
   "metadata": {},
   "outputs": [
    {
     "data": {
      "text/plain": [
       "1.0"
      ]
     },
     "execution_count": 113,
     "metadata": {},
     "output_type": "execute_result"
    }
   ],
   "source": [
    "np.linalg.norm(p)"
   ]
  },
  {
   "cell_type": "code",
   "execution_count": 114,
   "metadata": {},
   "outputs": [],
   "source": [
    "p = p.reshape((3,4))"
   ]
  },
  {
   "cell_type": "code",
   "execution_count": 115,
   "metadata": {},
   "outputs": [
    {
     "data": {
      "text/plain": [
       "array([[ 1.05618666e-04, -1.17993320e-05,  2.54052806e-05,\n",
       "        -9.70520465e-05],\n",
       "       [ 6.21564806e-04, -4.63279770e-04,  7.33643729e-03,\n",
       "        -8.54249654e-03],\n",
       "       [-9.45349262e-01,  3.25860515e-01, -6.69678660e-04,\n",
       "        -1.35235046e-03]])"
      ]
     },
     "execution_count": 115,
     "metadata": {},
     "output_type": "execute_result"
    }
   ],
   "source": [
    "p"
   ]
  },
  {
   "cell_type": "markdown",
   "metadata": {},
   "source": [
    "## Load the points\n",
    "\n",
    "`The function gets rid of the annoying error that NumPy's loadtxt() cries about.`"
   ]
  },
  {
   "cell_type": "code",
   "execution_count": 63,
   "metadata": {},
   "outputs": [],
   "source": [
    "def fileprocess(s):\n",
    "    im1, im2 = [], []\n",
    "    with open(s) as file:\n",
    "        for line in file:\n",
    "            a, b, c, d = line.split(',')\n",
    "            im1.append([float(a),float(b)])\n",
    "            im2.append([float(c),float(d)])\n",
    "    return im1,im2"
   ]
  },
  {
   "cell_type": "code",
   "execution_count": 82,
   "metadata": {},
   "outputs": [],
   "source": [
    "img1, img2 = fileprocess('./data/homography.txt')"
   ]
  },
  {
   "cell_type": "code",
   "execution_count": 83,
   "metadata": {},
   "outputs": [],
   "source": [
    "img1, img2 = np.array(img1), np.array(img2)"
   ]
  },
  {
   "cell_type": "markdown",
   "metadata": {},
   "source": [
    "### Compute $T^a$ and $T^b$"
   ]
  },
  {
   "cell_type": "code",
   "execution_count": 89,
   "metadata": {},
   "outputs": [],
   "source": [
    "def computeTransform(img):\n",
    "    x = img[:,0]\n",
    "    y = img[:,1]\n",
    "\n",
    "    T = np.zeros((3,3))\n",
    "    \n",
    "    s = np.sqrt(2)/ np.mean(np.sqrt((x-x.mean())**2 + (y-y.mean())**2))\n",
    "    \n",
    "    T[0] = np.array([s, 0, -s*x.mean()])\n",
    "    T[1] = np.array([0, s, -s*y.mean()])\n",
    "    T[2] = np.array([0, 0, 1])\n",
    "    \n",
    "    return T, s"
   ]
  },
  {
   "cell_type": "code",
   "execution_count": 90,
   "metadata": {},
   "outputs": [],
   "source": [
    "Ta, s1 = computeTransform(img1)"
   ]
  },
  {
   "cell_type": "code",
   "execution_count": 91,
   "metadata": {},
   "outputs": [],
   "source": [
    "Tb, s2 = computeTransform(img2)"
   ]
  },
  {
   "cell_type": "markdown",
   "metadata": {},
   "source": [
    "### Normalize Data"
   ]
  },
  {
   "cell_type": "code",
   "execution_count": 93,
   "metadata": {},
   "outputs": [],
   "source": [
    "def normalize(img, s):\n",
    "    x = img[:,0]\n",
    "    y = img[:,1]\n",
    "    x -= x.mean()\n",
    "    y -= y.mean()    \n",
    "    img[:,0] = s*x\n",
    "    img[:,1] = s*y\n",
    "    \n",
    "    return img"
   ]
  },
  {
   "cell_type": "code",
   "execution_count": 94,
   "metadata": {},
   "outputs": [],
   "source": [
    "img1_n = normalize(img1, s1)\n",
    "img2_n = normalize(img2, s2)"
   ]
  },
  {
   "cell_type": "markdown",
   "metadata": {},
   "source": [
    "### Compute $\\tilde{H}$"
   ]
  },
  {
   "cell_type": "code",
   "execution_count": 98,
   "metadata": {},
   "outputs": [],
   "source": [
    "x1 = img1_n[:,0]\n",
    "y1 = img1_n[:,1]\n",
    "\n",
    "x2 = img2_n[:,0]\n",
    "y2 = img2_n[:,1]"
   ]
  },
  {
   "cell_type": "code",
   "execution_count": 99,
   "metadata": {},
   "outputs": [],
   "source": [
    "ht1 = np.zeros((2*len(x1), 3))\n",
    "ht2 = np.zeros((2*len(x1), 3))\n",
    "ht3 = np.zeros((2*len(x1), 3))\n",
    "for i in range(len(x1)):\n",
    "    ht1[i*2] = np.hstack((x1[i], y1[i], 1))\n",
    "    ht2[i*2+1] = np.hstack((x1[i], y1[i], 1))\n",
    "    ht3[i*2] = np.hstack((-x2[i]*x1[i], -y1[i]*x2[i], -x2[i]))\n",
    "    ht3[i*2+1] = np.hstack((-y2[i]*x1[i], -y1[i]*y2[i], -y2[i]))"
   ]
  },
  {
   "cell_type": "code",
   "execution_count": 101,
   "metadata": {},
   "outputs": [],
   "source": [
    "AH_bar = np.hstack((ht1, ht2, ht3))"
   ]
  },
  {
   "cell_type": "code",
   "execution_count": 102,
   "metadata": {},
   "outputs": [],
   "source": [
    "ew2, ev2 = np.linalg.eig(AH_bar.T @ AH_bar)"
   ]
  },
  {
   "cell_type": "code",
   "execution_count": 103,
   "metadata": {},
   "outputs": [],
   "source": [
    "H_bar = ev2[-1]"
   ]
  },
  {
   "cell_type": "code",
   "execution_count": 104,
   "metadata": {},
   "outputs": [],
   "source": [
    "H_bar /= np.linalg.norm(H_bar)"
   ]
  },
  {
   "cell_type": "code",
   "execution_count": 105,
   "metadata": {},
   "outputs": [
    {
     "data": {
      "text/plain": [
       "0.9999999999999999"
      ]
     },
     "execution_count": 105,
     "metadata": {},
     "output_type": "execute_result"
    }
   ],
   "source": [
    "np.linalg.norm(H_bar)"
   ]
  },
  {
   "cell_type": "code",
   "execution_count": 106,
   "metadata": {},
   "outputs": [],
   "source": [
    "H_bar = H_bar.reshape((3,3))"
   ]
  },
  {
   "cell_type": "code",
   "execution_count": 107,
   "metadata": {},
   "outputs": [
    {
     "data": {
      "text/plain": [
       "array([[-0.09512031, -0.77332211, -0.02229385],\n",
       "       [ 0.01220048,  0.55951519,  0.16545529],\n",
       "       [-0.09442806, -0.20352084, -0.0388468 ]])"
      ]
     },
     "execution_count": 107,
     "metadata": {},
     "output_type": "execute_result"
    }
   ],
   "source": [
    "H_bar"
   ]
  },
  {
   "cell_type": "markdown",
   "metadata": {},
   "source": [
    "### Compute $H$"
   ]
  },
  {
   "cell_type": "code",
   "execution_count": 117,
   "metadata": {},
   "outputs": [],
   "source": [
    "H = np.linalg.inv(Tb) @ H_bar @ Ta"
   ]
  },
  {
   "cell_type": "code",
   "execution_count": 118,
   "metadata": {},
   "outputs": [
    {
     "data": {
      "text/plain": [
       "array([[-0.09512031, -0.77332211, -0.02229385],\n",
       "       [ 0.01220048,  0.55951519,  0.16545529],\n",
       "       [-0.09442806, -0.20352084, -0.0388468 ]])"
      ]
     },
     "execution_count": 118,
     "metadata": {},
     "output_type": "execute_result"
    }
   ],
   "source": [
    "H"
   ]
  }
 ],
 "metadata": {
  "kernelspec": {
   "display_name": "Python 3",
   "language": "python",
   "name": "python3"
  },
  "language_info": {
   "codemirror_mode": {
    "name": "ipython",
    "version": 3
   },
   "file_extension": ".py",
   "mimetype": "text/x-python",
   "name": "python",
   "nbconvert_exporter": "python",
   "pygments_lexer": "ipython3",
   "version": "3.6.4"
  }
 },
 "nbformat": 4,
 "nbformat_minor": 2
}
