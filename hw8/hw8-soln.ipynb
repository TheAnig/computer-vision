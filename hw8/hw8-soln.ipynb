{
 "cells": [
  {
   "cell_type": "code",
   "execution_count": 1,
   "metadata": {},
   "outputs": [],
   "source": [
    "import numpy as np\n",
    "from matplotlib import pyplot as plt"
   ]
  },
  {
   "cell_type": "markdown",
   "metadata": {},
   "source": [
    "## Camera Calibration"
   ]
  },
  {
   "cell_type": "markdown",
   "metadata": {},
   "source": [
    "### Load up the Points"
   ]
  },
  {
   "cell_type": "code",
   "execution_count": 2,
   "metadata": {},
   "outputs": [],
   "source": [
    "x = np.loadtxt('./data/2Dpoints.txt')"
   ]
  },
  {
   "cell_type": "code",
   "execution_count": 3,
   "metadata": {},
   "outputs": [],
   "source": [
    "X = np.loadtxt('./data/3Dpoints.txt')"
   ]
  },
  {
   "cell_type": "code",
   "execution_count": 4,
   "metadata": {},
   "outputs": [],
   "source": [
    "t1 = np.zeros((2*len(X), 4))\n",
    "t2 = np.zeros((2*len(X), 4))\n",
    "b = np.zeros((2*len(X), 4))\n",
    "for i in range(len(X)):\n",
    "    xi, yi = x[i]\n",
    "    t1[i*2] = np.hstack((X[i], [1]))\n",
    "    t2[i*2+1] = np.hstack((X[i], [1]))\n",
    "    b[i*2] = np.hstack((-xi*X[i], [-xi]))\n",
    "    b[i*2+1] = np.hstack((-yi*X[i], [-yi]))"
   ]
  },
  {
   "cell_type": "markdown",
   "metadata": {},
   "source": [
    "### Create the linear system of equations that give us our projection matrix"
   ]
  },
  {
   "cell_type": "code",
   "execution_count": 6,
   "metadata": {},
   "outputs": [],
   "source": [
    "A = np.hstack((t1, t2, b))"
   ]
  },
  {
   "cell_type": "markdown",
   "metadata": {},
   "source": [
    "### Solve the system"
   ]
  },
  {
   "cell_type": "code",
   "execution_count": 7,
   "metadata": {},
   "outputs": [],
   "source": [
    "ew, ev = np.linalg.eig(A.T @ A)"
   ]
  },
  {
   "cell_type": "markdown",
   "metadata": {},
   "source": [
    "### Get the minimum eigenvector"
   ]
  },
  {
   "cell_type": "code",
   "execution_count": 8,
   "metadata": {},
   "outputs": [],
   "source": [
    "p = ev[:,np.argmin(ew)]"
   ]
  },
  {
   "cell_type": "markdown",
   "metadata": {},
   "source": [
    "### Normalize the vector"
   ]
  },
  {
   "cell_type": "code",
   "execution_count": 9,
   "metadata": {},
   "outputs": [],
   "source": [
    "p /= np.linalg.norm(p)"
   ]
  },
  {
   "cell_type": "markdown",
   "metadata": {},
   "source": [
    "### Ensure the norm is 1"
   ]
  },
  {
   "cell_type": "code",
   "execution_count": 10,
   "metadata": {},
   "outputs": [
    {
     "data": {
      "text/plain": [
       "1.0"
      ]
     },
     "execution_count": 10,
     "metadata": {},
     "output_type": "execute_result"
    }
   ],
   "source": [
    "np.linalg.norm(p)"
   ]
  },
  {
   "cell_type": "markdown",
   "metadata": {},
   "source": [
    "### Rasterize our matrix to get camera"
   ]
  },
  {
   "cell_type": "code",
   "execution_count": 11,
   "metadata": {},
   "outputs": [],
   "source": [
    "p = p.reshape((3, 4))"
   ]
  },
  {
   "cell_type": "markdown",
   "metadata": {},
   "source": [
    "### Get 2D projections from our 3D points and camera"
   ]
  },
  {
   "cell_type": "code",
   "execution_count": 13,
   "metadata": {},
   "outputs": [],
   "source": [
    "out_proj = (p @ np.hstack((X, np.ones((len(X),1)))).T).T"
   ]
  },
  {
   "cell_type": "code",
   "execution_count": 14,
   "metadata": {},
   "outputs": [],
   "source": [
    "out_proj[:,0] = out_proj[:,0] / out_proj[:,2]\n",
    "out_proj[:,1] = out_proj[:,1] / out_proj[:,2]"
   ]
  },
  {
   "cell_type": "code",
   "execution_count": 15,
   "metadata": {},
   "outputs": [],
   "source": [
    "out_x, out_y = out_proj[:,0], out_proj[:,1]"
   ]
  },
  {
   "cell_type": "code",
   "execution_count": 16,
   "metadata": {},
   "outputs": [],
   "source": [
    "in_x, in_y = x[:,0], x[:,1]"
   ]
  },
  {
   "cell_type": "markdown",
   "metadata": {},
   "source": [
    "### Calculate sum of squared distance"
   ]
  },
  {
   "cell_type": "code",
   "execution_count": 17,
   "metadata": {},
   "outputs": [],
   "source": [
    "ssqe = np.sum((in_x - out_x)**2 + (in_y - out_y)**2)"
   ]
  },
  {
   "cell_type": "code",
   "execution_count": 18,
   "metadata": {},
   "outputs": [
    {
     "name": "stdout",
     "output_type": "stream",
     "text": [
      "18.74500374736163\n"
     ]
    }
   ],
   "source": [
    "print(ssqe)"
   ]
  },
  {
   "cell_type": "markdown",
   "metadata": {},
   "source": [
    "## Homography"
   ]
  },
  {
   "cell_type": "markdown",
   "metadata": {},
   "source": [
    "### Load the points\n",
    "\n",
    "`The function gets rid of the annoying error that NumPy's loadtxt() cries about.`"
   ]
  },
  {
   "cell_type": "code",
   "execution_count": 49,
   "metadata": {},
   "outputs": [],
   "source": [
    "def fileprocess(s):\n",
    "    im1, im2 = [], []\n",
    "    with open(s) as file:\n",
    "        for line in file:\n",
    "            a, b, c, d = line.split(',')\n",
    "            im1.append([float(a),float(b)])\n",
    "            im2.append([float(c),float(d)])\n",
    "    return im1,im2"
   ]
  },
  {
   "cell_type": "code",
   "execution_count": 50,
   "metadata": {},
   "outputs": [],
   "source": [
    "img1, img2 = fileprocess('./data/homography.txt')"
   ]
  },
  {
   "cell_type": "code",
   "execution_count": 51,
   "metadata": {},
   "outputs": [],
   "source": [
    "img1, img2 = np.array(img1), np.array(img2)"
   ]
  },
  {
   "cell_type": "markdown",
   "metadata": {},
   "source": [
    "### Compute $T^a$ and $T^b$"
   ]
  },
  {
   "cell_type": "code",
   "execution_count": 52,
   "metadata": {},
   "outputs": [],
   "source": [
    "def computeTransform(img):\n",
    "    x = img[:,0]\n",
    "    y = img[:,1]\n",
    "\n",
    "    T = np.zeros((3,3))\n",
    "    \n",
    "    s = np.sqrt(2)/ np.mean(np.sqrt((x-x.mean())**2 + (y-y.mean())**2))\n",
    "    \n",
    "    T[0] = np.array([s, 0, -s*x.mean()])\n",
    "    T[1] = np.array([0, s, -s*y.mean()])\n",
    "    T[2] = np.array([0, 0, 1])\n",
    "    \n",
    "    return T, s"
   ]
  },
  {
   "cell_type": "code",
   "execution_count": 53,
   "metadata": {},
   "outputs": [],
   "source": [
    "Ta, s1 = computeTransform(img1)"
   ]
  },
  {
   "cell_type": "code",
   "execution_count": 54,
   "metadata": {},
   "outputs": [],
   "source": [
    "Tb, s2 = computeTransform(img2)"
   ]
  },
  {
   "cell_type": "markdown",
   "metadata": {},
   "source": [
    "### Normalize Data"
   ]
  },
  {
   "cell_type": "code",
   "execution_count": 55,
   "metadata": {},
   "outputs": [],
   "source": [
    "def normalize(img, s):\n",
    "    img2 = np.zeros(img.shape)\n",
    "    x = img[:,0]\n",
    "    y = img[:,1]\n",
    "    x = img[:,0] - img[:,0].mean()\n",
    "    y = img[:,1] - img[:,1].mean()\n",
    "    img2[:,0] = s*x\n",
    "    img2[:,1] = s*y\n",
    "    \n",
    "    return img2"
   ]
  },
  {
   "cell_type": "code",
   "execution_count": 57,
   "metadata": {},
   "outputs": [],
   "source": [
    "img1_n = normalize(img1, s1)\n",
    "img2_n = normalize(img2, s2)"
   ]
  },
  {
   "cell_type": "markdown",
   "metadata": {},
   "source": [
    "### Compute $\\tilde{H}$"
   ]
  },
  {
   "cell_type": "code",
   "execution_count": 61,
   "metadata": {},
   "outputs": [],
   "source": [
    "x1 = img1_n[:,0]\n",
    "y1 = img1_n[:,1]\n",
    "\n",
    "x2 = img2_n[:,0]\n",
    "y2 = img2_n[:,1]"
   ]
  },
  {
   "cell_type": "code",
   "execution_count": 62,
   "metadata": {},
   "outputs": [],
   "source": [
    "ht1 = np.zeros((2*len(x1), 3))\n",
    "ht2 = np.zeros((2*len(x1), 3))\n",
    "ht3 = np.zeros((2*len(x1), 3))\n",
    "for i in range(len(x1)):\n",
    "    ht1[i*2] = np.hstack((x1[i], y1[i], 1))\n",
    "    ht2[i*2+1] = np.hstack((x1[i], y1[i], 1))\n",
    "    ht3[i*2] = np.hstack((-x2[i]*x1[i], -y1[i]*x2[i], -x2[i]))\n",
    "    ht3[i*2+1] = np.hstack((-y2[i]*x1[i], -y1[i]*y2[i], -y2[i]))"
   ]
  },
  {
   "cell_type": "code",
   "execution_count": 63,
   "metadata": {},
   "outputs": [],
   "source": [
    "AH_bar = np.hstack((ht1, ht2, ht3))"
   ]
  },
  {
   "cell_type": "code",
   "execution_count": 64,
   "metadata": {},
   "outputs": [],
   "source": [
    "ew2, ev2 = np.linalg.eig(AH_bar.T @ AH_bar)"
   ]
  },
  {
   "cell_type": "code",
   "execution_count": 65,
   "metadata": {},
   "outputs": [],
   "source": [
    "H_bar = ev2[:,np.argmin(ew2)]"
   ]
  },
  {
   "cell_type": "code",
   "execution_count": 66,
   "metadata": {},
   "outputs": [],
   "source": [
    "H_bar /= np.linalg.norm(H_bar)"
   ]
  },
  {
   "cell_type": "code",
   "execution_count": 67,
   "metadata": {},
   "outputs": [
    {
     "data": {
      "text/plain": [
       "1.0"
      ]
     },
     "execution_count": 67,
     "metadata": {},
     "output_type": "execute_result"
    }
   ],
   "source": [
    "np.linalg.norm(H_bar)"
   ]
  },
  {
   "cell_type": "code",
   "execution_count": 68,
   "metadata": {},
   "outputs": [],
   "source": [
    "H_bar = H_bar.reshape((3,3))"
   ]
  },
  {
   "cell_type": "markdown",
   "metadata": {},
   "source": [
    "### Compute $H$"
   ]
  },
  {
   "cell_type": "code",
   "execution_count": 70,
   "metadata": {},
   "outputs": [],
   "source": [
    "H = np.linalg.inv(Tb).dot(H_bar).dot(Ta)"
   ]
  },
  {
   "cell_type": "markdown",
   "metadata": {},
   "source": [
    "### Compute points from image 1 using our $H$"
   ]
  },
  {
   "cell_type": "code",
   "execution_count": 73,
   "metadata": {},
   "outputs": [],
   "source": [
    "img2_proj = (H.dot(np.hstack((img1, np.ones((len(img1),1)))).T)).T"
   ]
  },
  {
   "cell_type": "code",
   "execution_count": 75,
   "metadata": {},
   "outputs": [],
   "source": [
    "img2_proj[:,0] = img2_proj[:,0]/img2_proj[:,2]\n",
    "img2_proj[:,1] = img2_proj[:,1]/img2_proj[:,2]"
   ]
  },
  {
   "cell_type": "markdown",
   "metadata": {},
   "source": [
    "### Plot computed points"
   ]
  },
  {
   "cell_type": "code",
   "execution_count": 89,
   "metadata": {},
   "outputs": [
    {
     "data": {
      "image/png": "[encoded data removed]",
      "text/plain": [
       "<matplotlib.figure.Figure at 0x1f2fe2d2ba8>"
      ]
     },
     "metadata": {},
     "output_type": "display_data"
    }
   ],
   "source": [
    "fig = plt.figure()\n",
    "ax = fig.add_subplot(1, 1, 1)\n",
    "ax.scatter(img2[:,0], img2[:,1], alpha=0.8, c='red', edgecolors='none', s=45, label='Original', marker='x')\n",
    "ax.scatter(img2_proj[:,0], img2_proj[:,1], alpha=0.8, c='green', edgecolors='none', s=30, label='Projected', marker='D')\n",
    "#ax.scatter(solnmx[:,0], solnmx[:,1], alpha=0.8, c='green', edgecolors='none', s=30, label='Projected')\n",
    "plt.title('Points comparision')\n",
    "plt.legend(loc=2)\n",
    "plt.show()"
   ]
  },
  {
   "cell_type": "markdown",
   "metadata": {},
   "source": [
    "### Compute sum of squared error"
   ]
  },
  {
   "cell_type": "code",
   "execution_count": 77,
   "metadata": {},
   "outputs": [],
   "source": [
    "orig_x = img2[:,0]\n",
    "orig_y = img2[:,1]\n",
    "\n",
    "proj_x = img2_proj[:,0]\n",
    "#proj_x = solnmx[:,0]\n",
    "proj_y = img2_proj[:,1]\n",
    "#proj_y = solnmx[:,1]\n",
    "\n",
    "ssqe2 = np.sum((orig_x - proj_x)**2 + (orig_y - proj_y)**2)"
   ]
  },
  {
   "cell_type": "code",
   "execution_count": 78,
   "metadata": {},
   "outputs": [
    {
     "name": "stdout",
     "output_type": "stream",
     "text": [
      "105.97387926939311\n"
     ]
    }
   ],
   "source": [
    "print(ssqe2)"
   ]
  }
 ],
 "metadata": {
  "kernelspec": {
   "display_name": "Python 3",
   "language": "python",
   "name": "python3"
  },
  "language_info": {
   "codemirror_mode": {
    "name": "ipython",
    "version": 3
   },
   "file_extension": ".py",
   "mimetype": "text/x-python",
   "name": "python",
   "nbconvert_exporter": "python",
   "pygments_lexer": "ipython3",
   "version": "3.6.4"
  }
 },
 "nbformat": 4,
 "nbformat_minor": 2
}
